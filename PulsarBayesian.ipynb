{
 "cells": [
  {
   "cell_type": "markdown",
   "metadata": {},
   "source": [
    "Notebook for the UW 2018 Computational Physics course, module II.\n",
    "We want to test a model for the dispersion measure of pulsars (DM). The model includes an astrophysical contribution\n",
    "\\begin{equation}\n",
    "DM=DM_{\\text{astro}}+DM_{\\text{dm}} \\, .\n",
    "\\end{equation}\n",
    "For the astrophysical contribution, we know\n",
    "\\begin{equation}\n",
    "DM_{\\text{astro}}= n_e d \\, ,\n",
    "\\end{equation}\n",
    "where $n_e$ is the electron density, estimated through the YMW16 electron-density model, and $d$ is the distance determined with parallax.\n",
    "For the dark matter contribution, we assume milli-charged dark matter of mass $m_{\\text{dm}}$ and charge $q=e \\epsilon$,\n",
    "\\begin{equation}\n",
    "DM_{\\text{astro}}= m_e \\frac{\\epsilon^2}{m_{\\text{dm}}^2} \\rho d \\, ,\n",
    "\\end{equation}\n",
    "where $\\rho$ is the dark matter energy density of the Milky Way, assumed to be uniform.\n",
    "\n",
    "We first upload the data set provided by the ATNF pulsar catalogue:"
   ]
  },
  {
   "cell_type": "code",
   "execution_count": 67,
   "metadata": {},
   "outputs": [],
   "source": [
    "function get_data()\n",
    "datatable= \"\"\"\n",
    "1        0.130        2.0e-02        34.98        1.6e-03\n",
    "2        0.160        9.0e-02        61.25        5.0e-03\n",
    "3        0.170        3.0e-02        97.42        5.6e-03\n",
    "4        0.200        2.0e-01        60.60        1.7e-03\n",
    "5        0.213        0        24.37        3.0e-03\n",
    "6        0.220        1.2e-01        158.52        3.0e-03\n",
    "7        0.220        8.0e-02        71.02        1.3e-03\n",
    "8        0.280        6.0e-02        71.12        2.2e-03\n",
    "9        0.300        1.0e-01        22.18        5.0e-03\n",
    "10        0.370        4.0e-02        73.81        7.6e-04\n",
    "11        0.370        1.2e-01        24.63        1.8e-04\n",
    "12        0.384        8.1e-02        56.10        4.0e-01\n",
    "13        0.400        1.0e-01        28.19        9.0e-05\n",
    "14        0.400        2.0e-01        30.57        8.0e-05\n",
    "15        0.400        8.0e-01        297.52        6.0e-04\n",
    "16        0.400        2.0e-01        30.99        9.0e-04\n",
    "17        0.400        2.0e-01        23.92        9.0e-05\n",
    "18        0.470        3.0e-02        19.62        3.0e-04\n",
    "19        0.500        7.0e-02        52.33        2.0e-04\n",
    "20        0.500        6.0e-01        37.99        5.0e-03\n",
    "\"\"\"\n",
    "    lines = split(datatable, '\\n')\n",
    "    lines = filter(x->(length(x)>0), lines)\n",
    "    lines = filter(x->(length(x)>0), lines)\n",
    "\n",
    "    x = zeros(length(lines))\n",
    "    y = zeros(length(lines))\n",
    "    yerr = zeros(length(lines))\n",
    "    xerr = zeros(length(lines))\n",
    "    for (i,line) in enumerate(lines)\n",
    "        words = split(line, \"        \")\n",
    "        x[i] = 10^(-3)* parse(Float64, words[2])\n",
    "        y[i] = parse(Float64, words[4])\n",
    "        yerr[i] = parse(Float64, words[5])\n",
    "        xerr[i] = 10^(-3)* parse(Float64, words[3])\n",
    "    end\n",
    "    return x,y,xerr,yerr\n",
    "end;"
   ]
  },
  {
   "cell_type": "code",
   "execution_count": 68,
   "metadata": {},
   "outputs": [],
   "source": [
    "x,y,xerr,yerr = get_data();"
   ]
  },
  {
   "cell_type": "markdown",
   "metadata": {},
   "source": [
    "We define the main parameters, and se the units straight:"
   ]
  },
  {
   "cell_type": "code",
   "execution_count": 50,
   "metadata": {},
   "outputs": [
    {
     "data": {
      "text/plain": [
       "3.0e8"
      ]
     },
     "execution_count": 50,
     "metadata": {},
     "output_type": "execute_result"
    }
   ],
   "source": [
    "rho= 0.3 * 10^9\n"
   ]
  },
  {
   "cell_type": "code",
   "execution_count": 70,
   "metadata": {},
   "outputs": [
    {
     "data": {
      "text/plain": [
       "7692.30769230769"
      ]
     },
     "execution_count": 70,
     "metadata": {},
     "output_type": "execute_result"
    }
   ],
   "source": [
    "1/(x[1])"
   ]
  },
  {
   "cell_type": "code",
   "execution_count": null,
   "metadata": {},
   "outputs": [],
   "source": []
  }
 ],
 "metadata": {
  "kernelspec": {
   "display_name": "Julia 1.0.0",
   "language": "julia",
   "name": "julia-1.0"
  },
  "language_info": {
   "file_extension": ".jl",
   "mimetype": "application/julia",
   "name": "julia",
   "version": "1.0.0"
  }
 },
 "nbformat": 4,
 "nbformat_minor": 2
}
