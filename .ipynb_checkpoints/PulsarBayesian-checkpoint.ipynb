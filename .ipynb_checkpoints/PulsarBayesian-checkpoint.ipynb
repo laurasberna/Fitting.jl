{
 "cells": [
  {
   "cell_type": "markdown",
   "metadata": {},
   "source": [
    "Notebook for the UW 2018 Computational Physics course, module II.\n",
    "We want to test a model for the dispersion measure of pulsars (DM). The model includes an astrophysical contribution\n",
    "\\begin{equation}\n",
    "DM=DM_{\\text{astro}}+DM_{\\text{dm}} \\, .\n",
    "\\end{equation}\n",
    "For the astrophysical contribution, we know\n",
    "\\begin{equation}\n",
    "DM_{\\text{astro}}= n_e d \\, ,\n",
    "\\end{equation}\n",
    "where $n_e$ is the electron density, estimated through the YMW16 electron-density model, and $d$ is the distance determined with parallax.\n",
    "For the dark matter contribution, we assume milli-charged dark matter of mass $m_{\\text{dm}}$ and charge $q=e \\epsilon$,\n",
    "\\begin{equation}\n",
    "DM_{\\text{astro}}= m_e \\frac{\\epsilon^2}{m_{\\text{dm}}^2} \\rho d \\, ,\n",
    "\\end{equation}\n",
    "where $\\rho$ is the dark matter energy density of the Milky Way, assumed to be uniform.\n",
    "\n",
    "We first upload the data set provided by the ATNF pulsar catalogue:"
   ]
  },
  {
   "cell_type": "code",
   "execution_count": 23,
   "metadata": {},
   "outputs": [],
   "source": [
    "function get_data()\n",
    "#n     PX       PXerr       DM        DMerr         ne\n",
    "# when the error was missing (0) I set it to the last digit    \n",
    "datatable= \"\"\"\n",
    "1     0.130     2.0e-02     34.98     1.6e-03     0.000062\n",
    "2     0.770     2.3e-01     6.48     6.0e-04     0.009036\n",
    "3     0.213     0.001     24.37     3.0e-03     0.000836    \n",
    "4     0.710     1.7e-01     9.02     7.0e-05     0.007827\n",
    "5     0.300     1.0e-01     22.18     5.0e-03     0.004931\n",
    "6     0.700     2.0e-01     10.76     1.5e-03     0.008292\n",
    "7     2.530     7.0e-02     3.14     0.01     0.020564\n",
    "8     0.600     2.0e-01     13.31     2.5e-03     0.044781\n",
    "9     0.810     3.0e-02     10.39     0.01     0.016935\n",
    "10     2.770     7.0e-02     3.18     1.6e-04     0.015919\n",
    "11     0.370     1.2e-01     24.63     1.8e-04     0.012689\n",
    "12     0.470     3.0e-02     19.62     3.0e-04     0.004691\n",
    "13     0.400     2.0e-01     23.92     9.0e-05     0.011004\n",
    "14     0.160     9.0e-02     61.25     5.0e-03     0.003488\n",
    "15     0.860     1.8e-01     11.62     2.0e-05     0.009608\n",
    "16     4.200     1.4e+00     2.38     1.9e-01     0.009246\n",
    "17     0.900     4.0e-01     11.11     1.1e-04     0.024026\n",
    "18     0.930     8.0e-02     10.92     6.0e-03     0.008167\n",
    "19     0.731     2.2e-02     14.32     1.0e-02     0.008209\n",
    "20     1.160     8.0e-02     9.25     5.3e-04     0.008940\n",
    "\"\"\"\n",
    "    lines = split(datatable, '\\n')\n",
    "    lines = filter(x->(length(x)>0), lines)\n",
    "    lines = filter(x->(length(x)>0), lines)\n",
    "\n",
    "    x = zeros(length(lines))\n",
    "    y = zeros(length(lines))\n",
    "    yerr = zeros(length(lines))\n",
    "    xerr = zeros(length(lines))\n",
    "    ne = zeros(length(lines))\n",
    "    for (i,line) in enumerate(lines)\n",
    "        words = split(line, \"     \")\n",
    "        x[i] = 10^(-3)* parse(Float64, words[2]) # parallax in as\n",
    "        y[i] = parse(Float64, words[4])      # DM in cm^-3 pc\n",
    "        yerr[i] = parse(Float64, words[5])    # DM err\n",
    "        xerr[i] = 10^(-3)* parse(Float64, words[3])   # parallax err\n",
    "        ne[i] = parse(Float64, words[6])   # electron density cm^-3\n",
    "    end\n",
    "    return x,y,xerr,yerr,ne\n",
    "end;"
   ]
  },
  {
   "cell_type": "code",
   "execution_count": 24,
   "metadata": {},
   "outputs": [],
   "source": [
    "x,y,xerr,yerr,ne = get_data();"
   ]
  },
  {
   "cell_type": "markdown",
   "metadata": {},
   "source": [
    "We define the main parameters, and se the units straight:\n",
    "we define the dark matter density, the distance (from the parallax)"
   ]
  },
  {
   "cell_type": "code",
   "execution_count": 25,
   "metadata": {},
   "outputs": [
    {
     "data": {
      "text/plain": [
       "3.0e8"
      ]
     },
     "execution_count": 25,
     "metadata": {},
     "output_type": "execute_result"
    }
   ],
   "source": [
    "rho= 0.3 * 10^9  # DM energy density (eV cm^-3)\n",
    "d=1 ./x      # distance (pc)\n",
    "derr= 1 ./ (x .* x) .* xerr  # distance error (pc)"
   ]
  },
  {
   "cell_type": "code",
   "execution_count": null,
   "metadata": {},
   "outputs": [],
   "source": []
  }
 ],
 "metadata": {
  "kernelspec": {
   "display_name": "Julia 1.0.0",
   "language": "julia",
   "name": "julia-1.0"
  },
  "language_info": {
   "file_extension": ".jl",
   "mimetype": "application/julia",
   "name": "julia",
   "version": "1.0.0"
  }
 },
 "nbformat": 4,
 "nbformat_minor": 2
}
